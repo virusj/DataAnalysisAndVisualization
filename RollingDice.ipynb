{
 "cells": [
  {
   "cell_type": "markdown",
   "metadata": {},
   "source": [
    "# Rolling Dice"
   ]
  },
  {
   "cell_type": "code",
   "execution_count": 2,
   "metadata": {},
   "outputs": [],
   "source": [
    "from random import randint\n",
    "class Die():\n",
    "    def __init__(self , num_sides = 6):\n",
    "        self.num_sides = num_sides\n",
    "    \n",
    "    def roll(self):\n",
    "        return randint(1, self.num_sides)\n",
    "    "
   ]
  },
  {
   "cell_type": "code",
   "execution_count": 3,
   "metadata": {},
   "outputs": [
    {
     "name": "stdout",
     "output_type": "stream",
     "text": [
      "[4, 2, 1, 1, 5, 3, 4, 5, 5, 3, 3, 6, 3, 4, 4, 3, 6, 2, 4, 1, 1, 1, 3, 2, 4, 3, 4, 3, 5, 2, 4, 5, 3, 6, 6, 5, 6, 5, 3, 2, 6, 6, 1, 2, 1, 3, 1, 2, 4, 2, 6, 3, 2, 6, 1, 1, 6, 5, 6, 6, 2, 4, 6, 3, 6, 4, 2, 6, 5, 6, 2, 1, 3, 4, 4, 2, 3, 6, 6, 5, 2, 6, 5, 3, 2, 4, 4, 4, 1, 3, 6, 5, 2, 4, 2, 5, 3, 1, 5, 5, 6, 6, 1, 6, 2, 4, 6, 4, 4, 2, 1, 6, 4, 4, 1, 1, 6, 5, 1, 1, 4, 6, 4, 3, 1, 3, 4, 3, 5, 3, 3, 3, 5, 1, 3, 2, 6, 1, 6, 3, 6, 1, 6, 5, 1, 2, 3, 5, 4, 6, 5, 1, 6, 2, 5, 6, 4, 1, 5, 2, 2, 6, 1, 2, 6, 5, 4, 5, 2, 2, 2, 5, 2, 5, 6, 3, 2, 2, 6, 4, 4, 2, 2, 1, 2, 6, 1, 2, 3, 1, 3, 4, 5, 5, 5, 1, 4, 1, 1, 6, 6, 5, 5, 1, 6, 3, 6, 1, 1, 5, 1, 2, 4, 4, 4, 6, 6, 4, 1, 4, 4, 2, 6, 4, 5, 2, 2, 5, 1, 3, 6, 3, 1, 1, 3, 5, 2, 3, 3, 5, 1, 3, 1, 3, 4, 4, 5, 3, 1, 5, 2, 4, 5, 3, 4, 4, 6, 4, 2, 3, 2, 3, 3, 2, 4, 3, 5, 3, 1, 3, 4, 4, 6, 5, 1, 3, 6, 2, 2, 5, 5, 5, 4, 4, 6, 5, 4, 5, 1, 1, 5, 6, 3, 6, 4, 4, 2, 3, 1, 3, 5, 4, 2, 5, 1, 2, 4, 1, 6, 4, 3, 5, 1, 2, 3, 5, 6, 3, 6, 4, 5, 1, 4, 4, 3, 6, 4, 2, 5, 1, 2, 2, 6, 5, 3, 2, 1, 4, 3, 1, 3, 1, 1, 1, 6, 1, 6, 1, 6, 2, 3, 3, 2, 5, 4, 5, 3, 1, 4, 6, 3, 3, 4, 5, 4, 5, 1, 6, 3, 1, 1, 4, 3, 3, 6, 1, 6, 5, 1, 5, 2, 4, 4, 1, 3, 1, 5, 5, 6, 6, 2, 4, 5, 1, 2, 1, 6, 2, 6, 5, 4, 6, 3, 5, 4, 4, 2, 4, 2, 6, 2, 4, 3, 5, 3, 2, 4, 4, 3, 6, 3, 4, 2, 1, 2, 6, 6, 3, 2, 6, 5, 2, 1, 3, 6, 4, 2, 3, 5, 5, 6, 3, 4, 1, 1, 5, 6, 3, 3, 3, 4, 6, 2, 1, 5, 1, 3, 5, 3, 1, 1, 5, 4, 4, 3, 5, 6, 4, 3, 5, 3, 1, 4, 3, 6, 6, 6, 2, 6, 3, 2, 1, 4, 1, 6, 6, 4, 4, 2, 6, 4, 2, 5, 5, 2, 3, 3, 4, 2, 6, 6, 4, 6, 6, 5, 2, 4, 1, 1, 3, 3, 2, 1, 3, 4, 2, 2, 2, 3, 2, 2, 3, 4, 2, 2, 5, 6, 5, 3, 3, 3, 4, 5, 5, 5, 3, 4, 5, 5, 1, 6, 2, 2, 4, 1, 5, 3, 3, 3, 5, 4, 2, 6, 4, 4, 6, 2, 4, 2, 3, 4, 4, 5, 2, 3, 4, 5, 5, 2, 2, 5, 1, 4, 5, 5, 6, 2, 1, 4, 5, 3, 2, 6, 4, 6, 1, 3, 4, 3, 5, 4, 6, 3, 6, 1, 3, 4, 4, 5, 1, 1, 6, 6, 6, 6, 5, 1, 3, 5, 5, 4, 2, 1, 5, 4, 5, 2, 3, 6, 2, 6, 2, 6, 6, 5, 1, 4, 5, 4, 6, 3, 4, 6, 4, 3, 1, 6, 5, 2, 6, 4, 4, 2, 1, 1, 5, 2, 2, 6, 2, 4, 6, 1, 3, 3, 3, 6, 6, 6, 1, 3, 2, 1, 3, 1, 5, 3, 2, 1, 5, 6, 5, 2, 3, 2, 2, 1, 5, 3, 1, 1, 5, 3, 4, 1, 3, 2, 4, 6, 2, 2, 5, 6, 1, 6, 2, 5, 1, 2, 4, 1, 1, 1, 1, 5, 2, 5, 4, 6, 6, 1, 3, 4, 4, 5, 4, 4, 2, 2, 4, 5, 6, 6, 1, 6, 4, 3, 6, 4, 5, 2, 6, 3, 1, 4, 3, 6, 3, 5, 2, 5, 3, 6, 3, 5, 3, 4, 6, 6, 3, 5, 1, 3, 5, 4, 1, 3, 5, 2, 5, 4, 3, 5, 5, 6, 3, 3, 3, 4, 4, 2, 2, 2, 2, 3, 4, 4, 2, 1, 4, 4, 2, 4, 2, 1, 1, 6, 1, 5, 5, 1, 4, 6, 3, 1, 2, 5, 5, 6, 4, 5, 4, 6, 5, 6, 5, 2, 1, 4, 5, 3, 2, 3, 2, 4, 3, 4, 5, 6, 6, 2, 1, 5, 1, 1, 4, 3, 1, 4, 5, 2, 3, 4, 1, 1, 4, 1, 6, 2, 3, 2, 5, 2, 2, 4, 2, 3, 1, 2, 6, 5, 3, 6, 2, 4, 2, 1, 1, 1, 6, 2, 3, 2, 6, 5, 5, 4, 5, 1, 2, 5, 6, 2, 1, 1, 2, 3, 3, 1, 6, 4, 6, 4, 3, 6, 5, 3, 1, 3, 4, 6, 6, 1, 1, 2, 4, 2, 2, 2, 2, 1, 3, 2, 3, 4, 4, 5, 3, 3, 4, 1, 3, 4, 2, 5, 2, 2, 4, 3, 6, 5, 2, 5, 5, 5, 3, 4, 1, 4, 6, 4, 2, 1, 5, 3, 6, 5, 5, 5, 1, 6, 3, 3, 6, 2, 3, 2, 5, 5, 3, 2, 5, 1, 3, 4, 1, 2, 6, 6, 4, 5, 3, 5, 4, 4, 4, 1, 3, 4, 5, 6, 3, 1, 3, 4, 5, 6, 6, 2, 3, 3, 1, 6, 3, 5, 4, 5, 6, 4, 6, 6, 5, 2, 2, 4, 3, 1, 1, 4, 2]\n"
     ]
    }
   ],
   "source": [
    "die = Die()\n",
    "\n",
    "results = []\n",
    "for roll_num in range(1000):\n",
    "    result = die.roll()\n",
    "    results.append(result)\n",
    "print(results)"
   ]
  },
  {
   "cell_type": "code",
   "execution_count": 4,
   "metadata": {},
   "outputs": [
    {
     "data": {
      "text/plain": [
       "156"
      ]
     },
     "execution_count": 4,
     "metadata": {},
     "output_type": "execute_result"
    }
   ],
   "source": [
    "results.count(1)"
   ]
  },
  {
   "cell_type": "code",
   "execution_count": 5,
   "metadata": {},
   "outputs": [
    {
     "name": "stdout",
     "output_type": "stream",
     "text": [
      "[156, 165, 172, 177, 165, 165]\n"
     ]
    }
   ],
   "source": [
    "frequencies = []\n",
    "for value in range (1,die.num_sides+1):\n",
    "    frequency = results.count(value)\n",
    "    frequencies.append(frequency)\n",
    "print(frequencies)"
   ]
  },
  {
   "cell_type": "code",
   "execution_count": 6,
   "metadata": {},
   "outputs": [],
   "source": [
    "import pygal\n",
    "hist = pygal.Bar()\n",
    "\n",
    "hist.title = \"Results of one D6 1000 times.\"\n",
    "hist.x_labels = ['1','2','3','4','5','6']\n",
    "hist.x_title = \"Result\"\n",
    "hist.y_title = 'Frequency of result'\n",
    "\n",
    "hist.add(\"D6\", frequencies)\n",
    "hist.render_to_file('die_visual.svg')"
   ]
  },
  {
   "cell_type": "code",
   "execution_count": 7,
   "metadata": {},
   "outputs": [],
   "source": [
    "die_1 = Die()\n",
    "die_2 = Die()\n",
    "\n",
    "results = []\n",
    "for roll_num in range(1000):\n",
    "    result =die_1.roll() + die_2.roll()\n",
    "    results.append(result)\n",
    "    \n",
    "frequencies = []\n",
    "max_result = die_1.num_sides + die_2.num_sides\n",
    "for value in range(2, max_result+1):\n",
    "    frequency = results.count(value)\n",
    "    frequencies.append(frequency)\n",
    "    \n",
    "hist_1 = pygal.Bar()\n",
    "hist_1.title = \"Results of rolling two D6 dice 1000 times\"\n",
    "hist_1.x_labels = ['2','3','4','5','6','7','8','9','10','11','12']\n",
    "hist_1.x_title = \"Result\"\n",
    "hist_1.y_title = \"Frequency of Result\"\n",
    "\n",
    "hist_1.add(\"D6 + D6\", frequencies)\n",
    "hist_1.render_to_file('2die_visual.svg')"
   ]
  },
  {
   "cell_type": "code",
   "execution_count": null,
   "metadata": {},
   "outputs": [],
   "source": []
  }
 ],
 "metadata": {
  "kernelspec": {
   "display_name": "Python 3",
   "language": "python",
   "name": "python3"
  },
  "language_info": {
   "codemirror_mode": {
    "name": "ipython",
    "version": 3
   },
   "file_extension": ".py",
   "mimetype": "text/x-python",
   "name": "python",
   "nbconvert_exporter": "python",
   "pygments_lexer": "ipython3",
   "version": "3.8.5"
  }
 },
 "nbformat": 4,
 "nbformat_minor": 4
}
